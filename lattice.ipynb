{
 "cells": [
  {
   "cell_type": "code",
   "execution_count": 20,
   "metadata": {},
   "outputs": [
    {
     "name": "stdout",
     "output_type": "stream",
     "text": [
      "-->Les vecteurs de base a,b,c du réseau direct sont : 2.150750 -3.725208 0.000000\n",
      "2.150750 3.725208 0.000000\n",
      "0.000000 0.000000 5.270300\n",
      "-->Les longueurs des vecteurs de bases a,b,c du réseau direct sont respectivement : (4.301499881190511, 4.301499881190511, 5.2703)\n",
      "-->Les angles alpha, beta, gamma entre les vecteurs de base sont respectivement : (90.0, 90.0, 119.99999999999999)\n",
      "-----------------------------------------------\n",
      "-->Les vecteurs de base a*,b*,c* du réseau réciproque sont : 1.460696 -0.843333 0.000000\n",
      "1.460696 0.843333 0.000000\n",
      "0.000000 0.000000 1.192187\n",
      "-->Les longueurs des vecteurs de bases a*,b*,c* du réseau réciproque sont respectivement : (1.686666896972894, 1.686666896972894, 1.1921874100486853)\n",
      "-->Les angles alpha*, beta*, gamma* entre les vecteurs de base du réseau réciproque sont respectivement : (90.0, 90.0, 60.00000000000001)\n",
      "-----------------------------------------------\n",
      "Le type de maille est hexagonal\n",
      "-----------------------------------------------\n",
      "Cristal system : trigonal\n"
     ]
    }
   ],
   "source": [
    "from pymatgen.ext.matproj import MPRester\n",
    "from pymatgen.io.cif import CifWriter\n",
    "import pymatgen.symmetry.analyzer as an\n",
    "import pymatgen.core.lattice\n",
    "\n",
    "with MPRester(\"SbN3LIBvkZaEmT4M\") as m:\n",
    "\n",
    "    struc = m.get_structure_by_material_id(\"mp-1008506\")\n",
    "    struc.to(filename=\"BaGaSiH.cif\")\n",
    "    \n",
    "    structure = an.SpacegroupAnalyzer(struc).get_primitive_standard_structure()\n",
    "    lat = structure.lattice\n",
    "    \n",
    "    print\n",
    "    \n",
    "    print(\"-->Les vecteurs de base a,b,c du réseau direct sont :\",lat)\n",
    "    print(\"-->Les longueurs des vecteurs de bases a,b,c du réseau direct sont respectivement :\",lat.abc)\n",
    "    print(\"-->Les angles alpha, beta, gamma entre les vecteurs de base sont respectivement :\",lat.angles)\n",
    "    \n",
    "    print(\"-----------------------------------------------\")\n",
    "    \n",
    "    reclat = lat.reciprocal_lattice\n",
    "    \n",
    "    print(\"-->Les vecteurs de base a*,b*,c* du réseau réciproque sont :\",reclat)\n",
    "    print(\"-->Les longueurs des vecteurs de bases a*,b*,c* du réseau réciproque sont respectivement :\",reclat.abc)\n",
    "    print(\"-->Les angles alpha*, beta*, gamma* entre les vecteurs de base du réseau réciproque sont respectivement :\",reclat.angles)\n",
    "    \n",
    "    print(\"-----------------------------------------------\")\n",
    "    \n",
    "    struc3=an.SpacegroupAnalyzer(structure)\n",
    "    Tlattice = struc3.get_lattice_type()\n",
    "    \n",
    "    print(\"Le type de maille est\", Tlattice)\n",
    "    \n",
    "    print(\"-----------------------------------------------\")\n",
    "    \n",
    "    Crist= struc3.get_crystal_system()\n",
    "    print(\"Le système cristallin est :\", Crist)\n",
    "    \n",
    "    print(\"-----------------------------------------------\")\n",
    "    \n",
    "    GroupeP = struc3.get_point_group_symbol()\n",
    "    print(\"Le groupe ponctuel est :\",GroupeP)\n",
    "    \n",
    "    #longeur.reciprocal_lattice\n",
    "    #anal.getLatticeType\n",
    "    #print(struc)\n",
    "\n"
   ]
  },
  {
   "cell_type": "code",
   "execution_count": null,
   "metadata": {},
   "outputs": [],
   "source": []
  },
  {
   "cell_type": "code",
   "execution_count": null,
   "metadata": {},
   "outputs": [],
   "source": []
  },
  {
   "cell_type": "code",
   "execution_count": null,
   "metadata": {},
   "outputs": [],
   "source": []
  },
  {
   "cell_type": "code",
   "execution_count": null,
   "metadata": {},
   "outputs": [],
   "source": []
  },
  {
   "cell_type": "code",
   "execution_count": null,
   "metadata": {},
   "outputs": [],
   "source": []
  },
  {
   "cell_type": "code",
   "execution_count": null,
   "metadata": {},
   "outputs": [],
   "source": []
  }
 ],
 "metadata": {
  "kernelspec": {
   "display_name": "Python 3",
   "language": "python",
   "name": "python3"
  },
  "language_info": {
   "codemirror_mode": {
    "name": "ipython",
    "version": 3
   },
   "file_extension": ".py",
   "mimetype": "text/x-python",
   "name": "python",
   "nbconvert_exporter": "python",
   "pygments_lexer": "ipython3",
   "version": "3.6.8"
  }
 },
 "nbformat": 4,
 "nbformat_minor": 2
}
