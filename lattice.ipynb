{
 "cells": [
  {
   "cell_type": "code",
   "execution_count": 27,
   "metadata": {},
   "outputs": [
    {
     "name": "stdout",
     "output_type": "stream",
     "text": [
      "the 3 base vectors (a,b,c) are:\n",
      " 6.328605 -1.918322 0.000000\n",
      "6.328605 1.918322 0.000000\n",
      "5.747124 0.000000 3.271354\n",
      "length of the base vectors of the direct lattice (a,b,c): \n",
      " (6.612956670698628, 6.612956670698628, 6.612956670698629)\n",
      "angles (alpha,beta,gamma) of the base vectors of the direct lattice: \n",
      " (33.726131485675836, 33.726131485675836, 33.726131485675836)\n"
     ]
    }
   ],
   "source": [
    "import pymatgen.symmetry.analyzer as analyzer\n",
    "from pymatgen.ext.matproj import MPRester\n",
    "import pymatgen.core.lattice \n",
    "\n",
    "with MPRester(\"v5zOFTlhqtoyEiw1\") as m:\n",
    "    material_id = \"mp-753260\"\n",
    "    # Structure for material id\n",
    "    structure = m.get_structure_by_material_id(material_id)\n",
    "    structure.to(filename=\"LaAgO2_computed.cif\")#computes the computed version\n",
    "    \n",
    "    # we need to get the base vectors of the direct lattice, the base vectors of the reciprocal lattice, the lattice type\n",
    "    #the cristal system and finally the point group of the material\n",
    "    \n",
    "    #0 define new structure to obtain a=b=c and alpha=beta=gamma\n",
    "    new_structure = analyzer.SpacegroupAnalyzer(structure).get_primitive_standard_structure()\n",
    "    \n",
    "    #1\n",
    "    lat = new_structure.lattice\n",
    "    \n",
    "    print(\"the 3 base vectors (a,b,c) are:\\n\",lat)\n",
    "    print(\"length of the base vectors of the direct lattice (a,b,c): \\n\",lat.abc)\n",
    "    print(\"angles (alpha,beta,gamma) of the base vectors of the direct lattice: \\n\",lat.angles)"
   ]
  },
  {
   "cell_type": "code",
   "execution_count": 31,
   "metadata": {},
   "outputs": [
    {
     "name": "stdout",
     "output_type": "stream",
     "text": [
      "the volume of the cell:\n",
      " 79.43044056615129\n",
      "the 3 base vectors (a*,b*,c*) are:\n",
      " 0.496412 -1.637678 -0.872097\n",
      "0.496412 1.637678 -0.872097\n",
      "0.000000 0.000000 1.920668\n",
      "length of the base vectors of the rec lattice (a*,b*,c*): \n",
      " (1.9206681358553825, 1.9206681358553825, 1.9206681358553823)\n",
      "angles (alpha*,beta*,gamma*) of the base vectors of the rec lattice: \n",
      " (117.00442833870711, 117.00442833870711, 117.00442833870709)\n"
     ]
    }
   ],
   "source": [
    "#2 \n",
    "print(\"the volume of the cell:\\n\", lat.volume)\n",
    "lat_rec= lat.reciprocal_lattice\n",
    "print(\"the 3 base vectors (a*,b*,c*) are:\\n\",lat_rec)\n",
    "print(\"length of the base vectors of the rec lattice (a*,b*,c*): \\n\",lat_rec.abc)\n",
    "print(\"angles (alpha*,beta*,gamma*) of the base vectors of the rec lattice: \\n\",lat_rec.angles)"
   ]
  },
  {
   "cell_type": "code",
   "execution_count": 32,
   "metadata": {},
   "outputs": [
    {
     "name": "stdout",
     "output_type": "stream",
     "text": [
      "lattice type:\n",
      " rhombohedral\n"
     ]
    }
   ],
   "source": [
    "#3 lattice type\n",
    "SGan=analyzer.SpacegroupAnalyzer(new_structure)\n",
    "lattice_type = SGan.get_lattice_type()\n",
    "print(\"lattice type:\\n\", lattice_type)"
   ]
  },
  {
   "cell_type": "code",
   "execution_count": 33,
   "metadata": {},
   "outputs": [
    {
     "name": "stdout",
     "output_type": "stream",
     "text": [
      "Cristal system : trigonal\n"
     ]
    }
   ],
   "source": [
    "#4 cristal system\n",
    "CristalS= SGan.get_crystal_system()\n",
    "print(\"Cristal system :\", CristalS)"
   ]
  },
  {
   "cell_type": "code",
   "execution_count": 34,
   "metadata": {},
   "outputs": [
    {
     "name": "stdout",
     "output_type": "stream",
     "text": [
      "Point group:\n",
      " -3m\n"
     ]
    }
   ],
   "source": [
    "#5 point group\n",
    "PointG = SGan.get_point_group_symbol()\n",
    "print(\"Point group:\\n\",PointG)"
   ]
  },
  {
   "cell_type": "code",
   "execution_count": null,
   "metadata": {},
   "outputs": [],
   "source": []
  }
 ],
 "metadata": {
  "kernelspec": {
   "display_name": "Python 3",
   "language": "python",
   "name": "python3"
  },
  "language_info": {
   "codemirror_mode": {
    "name": "ipython",
    "version": 3
   },
   "file_extension": ".py",
   "mimetype": "text/x-python",
   "name": "python",
   "nbconvert_exporter": "python",
   "pygments_lexer": "ipython3",
   "version": "3.6.8"
  }
 },
 "nbformat": 4,
 "nbformat_minor": 2
}
