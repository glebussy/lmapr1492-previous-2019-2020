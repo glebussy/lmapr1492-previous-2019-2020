{
 "cells": [
  {
   "cell_type": "code",
   "execution_count": 3,
   "metadata": {},
   "outputs": [
    {
     "name": "stdout",
     "output_type": "stream",
     "text": [
      "Full Formula (Ba1 Ga1 Si1 H1)\n",
      "Reduced Formula: BaGaSiH\n",
      "abc   :   4.301500   4.301500   5.270300\n",
      "angles:  90.000000  90.000000 120.000002\n",
      "Sites (4)\n",
      "  #  SP         a       b       c    magmom\n",
      "---  ----  ------  ------  ------  --------\n",
      "  0  Ba    0       0       0             -0\n",
      "  1  Ga    0.6666  0.3333  0.5423         0\n",
      "  2  Si    0.3334  0.6667  0.4555        -0\n",
      "  3  H     0.6666  0.3333  0.8759         0\n"
     ]
    }
   ],
   "source": [
    "from pymatgen.ext.matproj import MPRester\n",
    "from pymatgen.io.cif import CifWriter\n",
    "with MPRester(\"SbN3LIBvkZaEmT4M\") as m:\n",
    "\n",
    "    structure = m.get_structure_by_material_id(\"mp-1008506\")\n",
    "    structure.to(filename=\"BaGaSiH.cif\")\n",
    "    \n",
    "print(structure)"
   ]
  },
  {
   "cell_type": "code",
   "execution_count": null,
   "metadata": {},
   "outputs": [],
   "source": []
  }
 ],
 "metadata": {
  "kernelspec": {
   "display_name": "Python 3",
   "language": "python",
   "name": "python3"
  },
  "language_info": {
   "codemirror_mode": {
    "name": "ipython",
    "version": 3
   },
   "file_extension": ".py",
   "mimetype": "text/x-python",
   "name": "python",
   "nbconvert_exporter": "python",
   "pygments_lexer": "ipython3",
   "version": "3.6.8"
  }
 },
 "nbformat": 4,
 "nbformat_minor": 2
}
