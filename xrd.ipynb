{
 "cells": [
  {
   "cell_type": "code",
   "execution_count": 43,
   "metadata": {},
   "outputs": [
    {
     "name": "stdout",
     "output_type": "stream",
     "text": [
      "Le premier pic du diffractogramme correspondant à un rayonnement X incident Cu Kα se situe à un angle 2θ = 18.669569597392655 ° et a une intensité relative égale à 82.60151737931145 .\n",
      "L'indice de Miller correspondant est :  {'hkl': (1, 1, 1), 'multiplicity': 2}\n",
      "\n",
      "\n",
      "Le deuxième pic du diffractogramme correspondant à un rayonnement X incident Cu Kα se situe à un angle 2θ = 21.590024092919904 ° et a une intensité relative égale à 4.343858260333452 .\n",
      "L'indice de Miller correspondant est :  [{'hkl': (1, 1, 0), 'multiplicity': 6}]\n",
      "\n",
      "\n",
      "Le troisième pic du diffractogramme correspondant à un rayonnement X incident Cu Kα se situe à un angle 2θ = 30.71920056548864 ° et a une intensité relative égale à 100.0 .\n",
      "L'indice de Miller correspondant est :  {'hkl': (2, 1, 1), 'multiplicity': 6}\n"
     ]
    },
    {
     "data": {
      "image/png": "[encoded data removed]",
      "text/plain": [
       "<Figure size 432x288 with 1 Axes>"
      ]
     },
     "metadata": {},
     "output_type": "display_data"
    }
   ],
   "source": [
    "import pymatgen.symmetry.analyzer as analyzer\n",
    "from pymatgen.ext.matproj import MPRester \n",
    "from pymatgen.analysis.diffraction.xrd import XRDCalculator\n",
    "import matplotlib.pyplot as plt\n",
    "\n",
    "\n",
    "with MPRester(\"SbN3LIBvkZaEmT4M\") as m:\n",
    "    material_id = \"mp-1747\"\n",
    "    structure = m.get_structure_by_material_id(material_id)\n",
    "    new_structure = analyzer.SpacegroupAnalyzer(structure).get_primitive_standard_structure()\n",
    "    \n",
    "    xrd = XRDCalculator('CuKa')\n",
    "    pattern = xrd.get_pattern(structure)\n",
    "    \n",
    "    print(\"Le premier pic du diffractogramme correspondant à un rayonnement X incident Cu Kα se situe à un angle 2θ =\",pattern.x[0],\"° et a une intensité relative égale à\", pattern.intensity[0],\".\")\n",
    "    print(\"L'indice de Miller correspondant est : \",pattern.hkls[0][0])\n",
    "    \n",
    "    print(\"\\n\")\n",
    "    \n",
    "    print(\"Le deuxième pic du diffractogramme correspondant à un rayonnement X incident Cu Kα se situe à un angle 2θ =\",pattern.x[1],\"° et a une intensité relative égale à\", pattern.intensity[1],\".\")\n",
    "    print(\"L'indice de Miller correspondant est : \",pattern.hkls[1])\n",
    "    \n",
    "    print(\"\\n\")\n",
    "    \n",
    "    print(\"Le troisième pic du diffractogramme correspondant à un rayonnement X incident Cu Kα se situe à un angle 2θ =\",pattern.x[2],\"° et a une intensité relative égale à\", pattern.intensity[2],\".\")\n",
    "    print(\"L'indice de Miller correspondant est : \",pattern.hkls[2][0])\n",
    "    \n",
    "    plt.figure()\n",
    "    plt.scatter(pattern.x,pattern.intensity,facecolors='none', edgecolors='r')\n",
    "    plt.bar(pattern.x,pattern.intensity, align='center', alpha=0.5)\n",
    "    plt.xlabel(\"2 $\\Theta$\")\n",
    "    plt.ylabel(\"intensity (CPS)\")\n",
    "    plt.title(\"Calculated X-ray diffraction patterns (relative intensity)\")"
   ]
  },
  {
   "cell_type": "code",
   "execution_count": null,
   "metadata": {},
   "outputs": [],
   "source": []
  },
  {
   "cell_type": "code",
   "execution_count": null,
   "metadata": {},
   "outputs": [],
   "source": []
  }
 ],
 "metadata": {
  "kernelspec": {
   "display_name": "Python 3",
   "language": "python",
   "name": "python3"
  },
  "language_info": {
   "codemirror_mode": {
    "name": "ipython",
    "version": 3
   },
   "file_extension": ".py",
   "mimetype": "text/x-python",
   "name": "python",
   "nbconvert_exporter": "python",
   "pygments_lexer": "ipython3",
   "version": "3.6.5"
  }
 },
 "nbformat": 4,
 "nbformat_minor": 2
}
